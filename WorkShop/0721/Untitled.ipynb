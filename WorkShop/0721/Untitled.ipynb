{
 "cells": [
  {
   "cell_type": "code",
   "execution_count": 35,
   "id": "249766ca",
   "metadata": {},
   "outputs": [
    {
     "ename": "TypeError",
     "evalue": "object of type 'int' has no len()",
     "output_type": "error",
     "traceback": [
      "\u001b[1;31m---------------------------------------------------------------------------\u001b[0m",
      "\u001b[1;31mTypeError\u001b[0m                                 Traceback (most recent call last)",
      "\u001b[1;32mc:\\Users\\SSAFY\\Desktop\\TIL_edu\\WorkShop\\0721\\Untitled.ipynb 셀 1\u001b[0m in \u001b[0;36m<cell line: 3>\u001b[1;34m()\u001b[0m\n\u001b[0;32m      <a href='vscode-notebook-cell:/c%3A/Users/SSAFY/Desktop/TIL_edu/WorkShop/0721/Untitled.ipynb#ch0000000?line=0'>1</a>\u001b[0m a\u001b[39m=\u001b[39m[[\u001b[39m1\u001b[39m],[\u001b[39m2\u001b[39m,\u001b[39m3\u001b[39m],[\u001b[39m4\u001b[39m,\u001b[39m5\u001b[39m,\u001b[39m6\u001b[39m],[\u001b[39m7\u001b[39m,\u001b[39m8\u001b[39m,\u001b[39m9\u001b[39m,\u001b[39m10\u001b[39m]]\n\u001b[0;32m      <a href='vscode-notebook-cell:/c%3A/Users/SSAFY/Desktop/TIL_edu/WorkShop/0721/Untitled.ipynb#ch0000000?line=2'>3</a>\u001b[0m \u001b[39mfor\u001b[39;00m i \u001b[39min\u001b[39;00m \u001b[39mrange\u001b[39m(\u001b[39mlen\u001b[39m(a)):\n\u001b[1;32m----> <a href='vscode-notebook-cell:/c%3A/Users/SSAFY/Desktop/TIL_edu/WorkShop/0721/Untitled.ipynb#ch0000000?line=3'>4</a>\u001b[0m     \u001b[39mfor\u001b[39;00m j \u001b[39min\u001b[39;00m \u001b[39mrange\u001b[39m(\u001b[39mlen\u001b[39;49m(i)):\n\u001b[0;32m      <a href='vscode-notebook-cell:/c%3A/Users/SSAFY/Desktop/TIL_edu/WorkShop/0721/Untitled.ipynb#ch0000000?line=4'>5</a>\u001b[0m         \u001b[39mprint\u001b[39m(a[i][j])\n\u001b[0;32m      <a href='vscode-notebook-cell:/c%3A/Users/SSAFY/Desktop/TIL_edu/WorkShop/0721/Untitled.ipynb#ch0000000?line=7'>8</a>\u001b[0m \u001b[39mprint\u001b[39m(a[\u001b[39m1\u001b[39m][\u001b[39m2\u001b[39m])\n",
      "\u001b[1;31mTypeError\u001b[0m: object of type 'int' has no len()"
     ]
    }
   ],
   "source": [
    "a=[[1],[2,3],[4,5,6],[7,8,9,10]]\n",
    "\n",
    "for i in range(len(a)):\n",
    "    for j in range(len(a[i])):\n",
    "        print(a[i][j])\n",
    "\n",
    "        \n",
    "print(a[1][2])\n"
   ]
  },
  {
   "cell_type": "code",
   "execution_count": 33,
   "id": "5175a720",
   "metadata": {},
   "outputs": [
    {
     "name": "stdout",
     "output_type": "stream",
     "text": [
      "z\n",
      "delilah\n"
     ]
    }
   ],
   "source": [
    "def get_secret_number(word):\n",
    "    Word=list(word)\n",
    "    sum=0\n",
    "    for i in Word:\n",
    "        sum = sum + ord(i)\n",
    "    return sum\n",
    "\n",
    "def get_strong_word(*big):\n",
    "    if get_secret_number(big[0]) > get_secret_number(big[1]):\n",
    "        print(big[0])\n",
    "    elif get_secret_number(big[0]) < get_secret_number(big[1]):\n",
    "        print(big[1])\n",
    "    else:\n",
    "        print(big[0],big[1])\n",
    "\n",
    "\n",
    "\n",
    "get_strong_word('z', 'a') \n",
    "get_strong_word('delilah','dixon')\n"
   ]
  },
  {
   "cell_type": "code",
   "execution_count": null,
   "id": "2915b25c",
   "metadata": {},
   "outputs": [],
   "source": []
  }
 ],
 "metadata": {
  "kernelspec": {
   "display_name": "Python 3.9.13 64-bit",
   "language": "python",
   "name": "python3"
  },
  "language_info": {
   "codemirror_mode": {
    "name": "ipython",
    "version": 3
   },
   "file_extension": ".py",
   "mimetype": "text/x-python",
   "name": "python",
   "nbconvert_exporter": "python",
   "pygments_lexer": "ipython3",
   "version": "3.9.13"
  },
  "toc": {
   "base_numbering": 1,
   "nav_menu": {},
   "number_sections": true,
   "sideBar": true,
   "skip_h1_title": false,
   "title_cell": "Table of Contents",
   "title_sidebar": "Contents",
   "toc_cell": false,
   "toc_position": {},
   "toc_section_display": true,
   "toc_window_display": false
  },
  "vscode": {
   "interpreter": {
    "hash": "c4b9ebf4ca459396e2ad1150752490c26670c1a037c08cad955a4425787bec2e"
   }
  }
 },
 "nbformat": 4,
 "nbformat_minor": 5
}
