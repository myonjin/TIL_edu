{
 "cells": [
  {
   "cell_type": "code",
   "execution_count": 9,
   "id": "004a8257",
   "metadata": {},
   "outputs": [
    {
     "data": {
      "text/plain": [
       "16"
      ]
     },
     "execution_count": 9,
     "metadata": {},
     "output_type": "execute_result"
    }
   ],
   "source": [
    "def dict_list_sum(list):\n",
    "    sum=0\n",
    "    for i in list:\n",
    "        sum+=i['age']\n",
    "    return sum\n",
    "\n",
    "\n",
    "   \n",
    "\n",
    "\n",
    "dict_list_sum([{'name': 'kim','age': 12},{'name': 'lee', 'age': 4}])"
   ]
  },
  {
   "cell_type": "code",
   "execution_count": 10,
   "id": "b7770c59",
   "metadata": {},
   "outputs": [
    {
     "data": {
      "text/plain": [
       "55"
      ]
     },
     "execution_count": 10,
     "metadata": {},
     "output_type": "execute_result"
    }
   ],
   "source": [
    "def all_list_sum(list):\n",
    "    sum = 0\n",
    "    for i in list:\n",
    "        for j in i:\n",
    "            sum += j\n",
    "    return sum\n",
    "\n",
    "\n",
    "\n",
    "all_list_sum([[1], [2, 3], [4, 5, 6], [7, 8, 9, 10]])\n"
   ]
  },
  {
   "cell_type": "code",
   "execution_count": 23,
   "id": "2196c3ba",
   "metadata": {},
   "outputs": [
    {
     "data": {
      "text/plain": [
       "list"
      ]
     },
     "execution_count": 23,
     "metadata": {},
     "output_type": "execute_result"
    }
   ],
   "source": [
    "a=[[1], [2, 3], [4, 5, 6], [7, 8, 9, 10]]\n",
    "\n",
    "for i in a:\n",
    "    for j in range(a[i]):\n",
    "        a[i][j]\n",
    "\n",
    "a[0][0]+a[1][0]+a[1][1]+a[2][0]\n",
    "\n"
   ]
  },
  {
   "cell_type": "code",
   "execution_count": null,
   "id": "5175a720",
   "metadata": {},
   "outputs": [
    {
     "name": "stdout",
     "output_type": "stream",
     "text": [
      "z\n",
      "delilah\n"
     ]
    }
   ],
   "source": [
    "def get_secret_number(word):\n",
    "    Word=list(word)\n",
    "    sum=0\n",
    "    for i in Word:\n",
    "        sum = sum + ord(i)\n",
    "    return sum\n",
    "\n",
    "def get_strong_word(*big):\n",
    "    if get_secret_number(big[0]) > get_secret_number(big[1]):\n",
    "        print(big[0])\n",
    "    elif get_secret_number(big[0]) < get_secret_number(big[1]):\n",
    "        print(big[1])\n",
    "    else:\n",
    "        print(big[0],big[1])\n",
    "\n",
    "\n",
    "\n",
    "get_strong_word('z', 'a') \n",
    "get_strong_word('delilah','dixon')\n"
   ]
  },
  {
   "cell_type": "code",
   "execution_count": 14,
   "id": "2915b25c",
   "metadata": {},
   "outputs": [
    {
     "name": "stdout",
     "output_type": "stream",
     "text": [
      "5\n"
     ]
    }
   ],
   "source": [
    "sum=0\n",
    "for j in [2,3]:\n",
    "    sum += j\n",
    "print(sum)"
   ]
  },
  {
   "cell_type": "code",
   "execution_count": 24,
   "id": "efe2fbd0",
   "metadata": {},
   "outputs": [
    {
     "ename": "TypeError",
     "evalue": "list indices must be integers or slices, not list",
     "output_type": "error",
     "traceback": [
      "\u001b[1;31m---------------------------------------------------------------------------\u001b[0m",
      "\u001b[1;31mTypeError\u001b[0m                                 Traceback (most recent call last)",
      "\u001b[1;32mc:\\Users\\kjina\\Desktop\\SSAFY\\TIL_edu\\WorkShop\\0721\\Untitled.ipynb 셀 6\u001b[0m in \u001b[0;36m<cell line: 3>\u001b[1;34m()\u001b[0m\n\u001b[0;32m      <a href='vscode-notebook-cell:/c%3A/Users/kjina/Desktop/SSAFY/TIL_edu/WorkShop/0721/Untitled.ipynb#ch0000005?line=1'>2</a>\u001b[0m result\u001b[39m=\u001b[39m\u001b[39m0\u001b[39m\n\u001b[0;32m      <a href='vscode-notebook-cell:/c%3A/Users/kjina/Desktop/SSAFY/TIL_edu/WorkShop/0721/Untitled.ipynb#ch0000005?line=2'>3</a>\u001b[0m \u001b[39mfor\u001b[39;00m i \u001b[39min\u001b[39;00m a:\n\u001b[1;32m----> <a href='vscode-notebook-cell:/c%3A/Users/kjina/Desktop/SSAFY/TIL_edu/WorkShop/0721/Untitled.ipynb#ch0000005?line=3'>4</a>\u001b[0m     \u001b[39mfor\u001b[39;00m j \u001b[39min\u001b[39;00m a[i]:\n\u001b[0;32m      <a href='vscode-notebook-cell:/c%3A/Users/kjina/Desktop/SSAFY/TIL_edu/WorkShop/0721/Untitled.ipynb#ch0000005?line=4'>5</a>\u001b[0m         result\u001b[39m+\u001b[39m\u001b[39m=\u001b[39ma[i][j]\n\u001b[0;32m      <a href='vscode-notebook-cell:/c%3A/Users/kjina/Desktop/SSAFY/TIL_edu/WorkShop/0721/Untitled.ipynb#ch0000005?line=6'>7</a>\u001b[0m \u001b[39mprint\u001b[39m(result)\n",
      "\u001b[1;31mTypeError\u001b[0m: list indices must be integers or slices, not list"
     ]
    }
   ],
   "source": [
    "a=[[1],[2,3],[4,5,6],[7,8,9,10]]\n",
    "result=0\n",
    "for i in a:\n",
    "    for j in a[i]:\n",
    "        result+=a[i][j]\n",
    "\n",
    "print(result)"
   ]
  }
 ],
 "metadata": {
  "kernelspec": {
   "display_name": "Python 3.9.13 64-bit",
   "language": "python",
   "name": "python3"
  },
  "language_info": {
   "codemirror_mode": {
    "name": "ipython",
    "version": 3
   },
   "file_extension": ".py",
   "mimetype": "text/x-python",
   "name": "python",
   "nbconvert_exporter": "python",
   "pygments_lexer": "ipython3",
   "version": "3.9.13"
  },
  "toc": {
   "base_numbering": 1,
   "nav_menu": {},
   "number_sections": true,
   "sideBar": true,
   "skip_h1_title": false,
   "title_cell": "Table of Contents",
   "title_sidebar": "Contents",
   "toc_cell": false,
   "toc_position": {},
   "toc_section_display": true,
   "toc_window_display": false
  },
  "vscode": {
   "interpreter": {
    "hash": "89b0237edebb1b209197982ee5864189499d4ef77243b3dd1c7e59841187ef9a"
   }
  }
 },
 "nbformat": 4,
 "nbformat_minor": 5
}
