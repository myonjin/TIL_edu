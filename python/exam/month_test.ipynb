{
 "cells": [
  {
   "cell_type": "code",
   "execution_count": 7,
   "metadata": {},
   "outputs": [
    {
     "name": "stdout",
     "output_type": "stream",
     "text": [
      "90\n"
     ]
    }
   ],
   "source": [
    "def max_score(scores):\n",
    "    pass\n",
    "    # 여기에 코드를 작성합니다.\n",
    "    scores.sort(reverse=True)\n",
    "    A=scores[0]\n",
    "    return A\n",
    "\n",
    "# 아래의 코드는 수정하지 않습니다.\n",
    "if __name__ == '__main__':\n",
    "    scores = [30, 60, 90, 70]\n",
    "    print(max_score(scores)) # 90"
   ]
  },
  {
   "cell_type": "code",
   "execution_count": 17,
   "metadata": {},
   "outputs": [
    {
     "name": "stdout",
     "output_type": "stream",
     "text": [
      "90\n"
     ]
    }
   ],
   "source": [
    "def max_score(scores):\n",
    "    pass\n",
    "    # 여기에 코드를 작성합니다.\n",
    "    result =0\n",
    "    for i in scores:\n",
    "        if result <i:\n",
    "            result+=i        \n",
    "    return result\n",
    "\n",
    "# 아래의 코드는 수정하지 않습니다.\n",
    "if __name__ == '__main__':\n",
    "    scores = [30, 60, 90, 70]\n",
    "    print(max_score(scores)) # 90\n"
   ]
  },
  {
   "cell_type": "markdown",
   "metadata": {},
   "source": [
    "# 문제3번\n"
   ]
  },
  {
   "cell_type": "code",
   "execution_count": null,
   "metadata": {},
   "outputs": [],
   "source": [
    "from itertools import count\n",
    "\n",
    "\n",
    "def menu_count(restorant):\n",
    "    pass\n",
    "    # 여기에 코드를 작성합니다.\n",
    "    count=len(restorant.get(\"menus\"))\n",
    "    return count\n",
    "\n",
    "# 아래의 코드는 수정하지 않습니다.\n",
    "if __name__ == '__main__':\n",
    "    restorant = {\n",
    "        \"id\": 11,\n",
    "        \"user_rating\": 5.5,\n",
    "        \"name\": \"김밥나라\",\n",
    "        \"menus\": [\"참치김밥\", \"치즈라면\", \"돈까스\", \"비빔밥\"],\n",
    "        \"location\": \"서울특별시 강남구 역삼동 123-123\"\n",
    "    }\n",
    "    print(menu_count(restorant)) # 4\n"
   ]
  },
  {
   "cell_type": "code",
   "execution_count": 5,
   "metadata": {},
   "outputs": [
    {
     "name": "stdout",
     "output_type": "stream",
     "text": [
      "4\n"
     ]
    }
   ],
   "source": [
    "from itertools import count\n",
    "\n",
    "\n",
    "def menu_count(restorant):\n",
    "    pass\n",
    "    # 여기에 코드를 작성합니다.\n",
    "    \n",
    "    return len(restorant[\"menus\"])\n",
    "\n",
    "# 아래의 코드는 수정하지 않습니다.\n",
    "if __name__ == '__main__':\n",
    "    restorant = {\n",
    "        \"id\": 11,\n",
    "        \"user_rating\": 5.5,\n",
    "        \"name\": \"김밥나라\",\n",
    "        \"menus\": [\"참치김밥\", \"치즈라면\", \"돈까스\", \"비빔밥\"],\n",
    "        \"location\": \"서울특별시 강남구 역삼동 123-123\"\n",
    "    }\n",
    "    print(menu_count(restorant)) # 4"
   ]
  },
  {
   "cell_type": "markdown",
   "metadata": {},
   "source": [
    "# 문제4번"
   ]
  },
  {
   "cell_type": "code",
   "execution_count": 40,
   "metadata": {},
   "outputs": [
    {
     "ename": "UnboundLocalError",
     "evalue": "local variable 'min' referenced before assignment",
     "output_type": "error",
     "traceback": [
      "\u001b[1;31m---------------------------------------------------------------------------\u001b[0m",
      "\u001b[1;31mUnboundLocalError\u001b[0m                         Traceback (most recent call last)",
      "\u001b[1;32mc:\\Users\\kjina\\Desktop\\exam\\month_test.ipynb 셀 7\u001b[0m in \u001b[0;36m<cell line: 13>\u001b[1;34m()\u001b[0m\n\u001b[0;32m     <a href='vscode-notebook-cell:/c%3A/Users/kjina/Desktop/exam/month_test.ipynb#ch0000006?line=12'>13</a>\u001b[0m \u001b[39mif\u001b[39;00m \u001b[39m__name__\u001b[39m \u001b[39m==\u001b[39m \u001b[39m'\u001b[39m\u001b[39m__main__\u001b[39m\u001b[39m'\u001b[39m:\n\u001b[0;32m     <a href='vscode-notebook-cell:/c%3A/Users/kjina/Desktop/exam/month_test.ipynb#ch0000006?line=13'>14</a>\u001b[0m     temperatures \u001b[39m=\u001b[39m [\n\u001b[0;32m     <a href='vscode-notebook-cell:/c%3A/Users/kjina/Desktop/exam/month_test.ipynb#ch0000006?line=14'>15</a>\u001b[0m         [\u001b[39m9\u001b[39m, \u001b[39m3\u001b[39m],\n\u001b[0;32m     <a href='vscode-notebook-cell:/c%3A/Users/kjina/Desktop/exam/month_test.ipynb#ch0000006?line=15'>16</a>\u001b[0m         [\u001b[39m9\u001b[39m, \u001b[39m0\u001b[39m],\n\u001b[1;32m   (...)\u001b[0m\n\u001b[0;32m     <a href='vscode-notebook-cell:/c%3A/Users/kjina/Desktop/exam/month_test.ipynb#ch0000006?line=20'>21</a>\u001b[0m         [\u001b[39m-\u001b[39m\u001b[39m4\u001b[39m, \u001b[39m-\u001b[39m\u001b[39m12\u001b[39m]\n\u001b[0;32m     <a href='vscode-notebook-cell:/c%3A/Users/kjina/Desktop/exam/month_test.ipynb#ch0000006?line=21'>22</a>\u001b[0m     ]\n\u001b[1;32m---> <a href='vscode-notebook-cell:/c%3A/Users/kjina/Desktop/exam/month_test.ipynb#ch0000006?line=22'>23</a>\u001b[0m     \u001b[39mprint\u001b[39m(turn(temperatures))\n",
      "\u001b[1;32mc:\\Users\\kjina\\Desktop\\exam\\month_test.ipynb 셀 7\u001b[0m in \u001b[0;36mturn\u001b[1;34m(temperatures)\u001b[0m\n\u001b[0;32m      <a href='vscode-notebook-cell:/c%3A/Users/kjina/Desktop/exam/month_test.ipynb#ch0000006?line=2'>3</a>\u001b[0m \u001b[39m# 여기에 코드를 작성합니다.\u001b[39;00m\n\u001b[0;32m      <a href='vscode-notebook-cell:/c%3A/Users/kjina/Desktop/exam/month_test.ipynb#ch0000006?line=3'>4</a>\u001b[0m \u001b[39mfor\u001b[39;00m i \u001b[39min\u001b[39;00m temperatures:\n\u001b[1;32m----> <a href='vscode-notebook-cell:/c%3A/Users/kjina/Desktop/exam/month_test.ipynb#ch0000006?line=4'>5</a>\u001b[0m     \u001b[39mmin\u001b[39m\u001b[39m+\u001b[39m\u001b[39m=\u001b[39m\u001b[39mlist\u001b[39m(i[\u001b[39m0\u001b[39m])\n\u001b[0;32m      <a href='vscode-notebook-cell:/c%3A/Users/kjina/Desktop/exam/month_test.ipynb#ch0000006?line=5'>6</a>\u001b[0m     \u001b[39mmax\u001b[39m\u001b[39m+\u001b[39m\u001b[39m=\u001b[39m\u001b[39mlist\u001b[39m(i[\u001b[39m1\u001b[39m])\n\u001b[0;32m      <a href='vscode-notebook-cell:/c%3A/Users/kjina/Desktop/exam/month_test.ipynb#ch0000006?line=6'>7</a>\u001b[0m weather\u001b[39m=\u001b[39m{\u001b[39m'\u001b[39m\u001b[39mmaximum\u001b[39m\u001b[39m'\u001b[39m:\u001b[39mmax\u001b[39m,\u001b[39m'\u001b[39m\u001b[39mminimum\u001b[39m\u001b[39m'\u001b[39m:\u001b[39mmin\u001b[39m}\n",
      "\u001b[1;31mUnboundLocalError\u001b[0m: local variable 'min' referenced before assignment"
     ]
    }
   ],
   "source": [
    "def turn(temperatures):\n",
    "    pass\n",
    "    # 여기에 코드를 작성합니다.\n",
    "    max=[]\n",
    "    min=[]\n",
    "    for i in temperatures:\n",
    "        max.append([i[0]])\n",
    "        min.append([i[1]])\n",
    "    weather={'maximum':max,'minimum':min}\n",
    "\n",
    "\n",
    "    return weather\n",
    "\n",
    "# 아래의 코드는 수정하지 않습니다.\n",
    "if __name__ == '__main__':\n",
    "    temperatures = [\n",
    "        [9, 3],\n",
    "        [9, 0],\n",
    "        [11, -3],\n",
    "        [11, 1],\n",
    "        [8, -3],\n",
    "        [7, -3],\n",
    "        [-4, -12]\n",
    "    ]\n",
    "    print(turn(temperatures)) \n",
    "    # {\n",
    "    #     'maximum': [9, 9, 11, 11, 8, 7, -4], \n",
    "    #     'minimum': [3, 0, -3, 1, -3, -3, -12]\n",
    "    # }\n"
   ]
  },
  {
   "cell_type": "markdown",
   "metadata": {},
   "source": [
    "# 문제 5\n"
   ]
  },
  {
   "cell_type": "code",
   "execution_count": 57,
   "metadata": {},
   "outputs": [
    {
     "ename": "IndentationError",
     "evalue": "expected an indented block (1499660188.py, line 4)",
     "output_type": "error",
     "traceback": [
      "\u001b[1;36m  Input \u001b[1;32mIn [57]\u001b[1;36m\u001b[0m\n\u001b[1;33m    return True\u001b[0m\n\u001b[1;37m    ^\u001b[0m\n\u001b[1;31mIndentationError\u001b[0m\u001b[1;31m:\u001b[0m expected an indented block\n"
     ]
    }
   ],
   "source": [
    "def me(user):\n",
    "    if user>5:\n",
    "        \n",
    "    return True\n",
    "    \n",
    "    else:\n",
    "        \n",
    "    return False \n",
    "\n",
    "\n"
   ]
  }
 ],
 "metadata": {
  "kernelspec": {
   "display_name": "Python 3.9.13 64-bit",
   "language": "python",
   "name": "python3"
  },
  "language_info": {
   "codemirror_mode": {
    "name": "ipython",
    "version": 3
   },
   "file_extension": ".py",
   "mimetype": "text/x-python",
   "name": "python",
   "nbconvert_exporter": "python",
   "pygments_lexer": "ipython3",
   "version": "3.9.13"
  },
  "orig_nbformat": 4,
  "vscode": {
   "interpreter": {
    "hash": "89b0237edebb1b209197982ee5864189499d4ef77243b3dd1c7e59841187ef9a"
   }
  }
 },
 "nbformat": 4,
 "nbformat_minor": 2
}
