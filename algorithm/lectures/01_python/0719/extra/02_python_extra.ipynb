{
 "cells": [
  {
   "cell_type": "markdown",
   "metadata": {},
   "source": [
    "# Extra\n",
    "\n",
    "> 데이터 & 제어문"
   ]
  },
  {
   "cell_type": "markdown",
   "metadata": {},
   "source": [
    "## 갯수 구하기\n",
    "\n",
    "> 주어진 리스트의 요소는 학생 이름으로 구성되어 있다. 학생들의 수를 출력하시오.\n",
    "\n",
    "---\n",
    "\n",
    "```\n",
    "[출력 예시]\n",
    "3\n",
    "```"
   ]
  },
  {
   "cell_type": "code",
   "execution_count": 1,
   "metadata": {
    "ExecuteTime": {
     "end_time": "2020-07-20T07:21:43.556594Z",
     "start_time": "2020-07-20T07:21:43.553351Z"
    }
   },
   "outputs": [
    {
     "name": "stdout",
     "output_type": "stream",
     "text": [
      "3\n"
     ]
    }
   ],
   "source": [
    "students = ['김철수', '이영희', '조민지']\n",
    "\n",
    "# 아래에 코드를 작성하시오.\n",
    "\n",
    "print(len(students))"
   ]
  },
  {
   "cell_type": "code",
   "execution_count": 2,
   "metadata": {},
   "outputs": [
    {
     "name": "stdout",
     "output_type": "stream",
     "text": [
      "3\n"
     ]
    }
   ],
   "source": [
    "# 최종 결괏값을 담을 변수\n",
    "result = 0\n",
    "\n",
    "# 수를 하나씩 세자\n",
    "for i in students:\n",
    "    # i라는 변수에 담긴 값은 지금 쓸 일 없다.\n",
    "    # 내가 지금 할 일은... \n",
    "    # 몇번 반복 헀는지 세는 것 뿐이다.\n",
    "    result = result + 1\n",
    "# 끝\n",
    "print(result)"
   ]
  },
  {
   "cell_type": "markdown",
   "metadata": {},
   "source": [
    "## 득표수 구하기\n",
    "\n",
    "> 주어진 리스트는 반장 선거 투표 결과이다. 이영희의 총 득표수를 출력하시오.\n",
    "\n",
    "---\n",
    "\n",
    "```\n",
    "[출력 예시]\n",
    "4\n",
    "```"
   ]
  },
  {
   "cell_type": "code",
   "execution_count": 3,
   "metadata": {},
   "outputs": [
    {
     "name": "stdout",
     "output_type": "stream",
     "text": [
      "4\n"
     ]
    }
   ],
   "source": [
    "students = ['이영희', '김철수', '이영희', '조민지', '김철수', '조민지', '이영희', '이영희']\n",
    "\n",
    "# 아래에 코드를 작성하시오.\n",
    "\n",
    "# 최종 값\n",
    "result = 0\n",
    "\n",
    "# 순회 대상\n",
    "for name in students:\n",
    "    # 조건 : 요소 중, 이영희를 찾기\n",
    "    if name == '이영희':\n",
    "        result = result + 1\n",
    "print(result)\n"
   ]
  },
  {
   "cell_type": "code",
   "execution_count": 4,
   "metadata": {},
   "outputs": [
    {
     "data": {
      "text/plain": [
       "4"
      ]
     },
     "execution_count": 4,
     "metadata": {},
     "output_type": "execute_result"
    }
   ],
   "source": [
    "# List.count(내가 찾고자 하는 값) -> LIst에 그 값이 몇개 있는지 세어준다.\n",
    "students.count('이영희')"
   ]
  },
  {
   "cell_type": "markdown",
   "metadata": {},
   "source": [
    "## 최댓값 구하기\n",
    "\n",
    "> 주어진 리스트의 요소 중에서 최댓값을 출력하시오.\n",
    "\n",
    "---\n",
    "```\n",
    "[출력 예시]\n",
    "22\n",
    "```"
   ]
  },
  {
   "cell_type": "code",
   "execution_count": 7,
   "metadata": {},
   "outputs": [
    {
     "name": "stdout",
     "output_type": "stream",
     "text": [
      "22\n",
      "22\n",
      "22\n"
     ]
    }
   ],
   "source": [
    "numbers = [7, 10, 22, 4, 3, 17]\n",
    "\n",
    "# 아래에 코드를 작성하시오.\n",
    "\n",
    "print(max(numbers))\n",
    "print(sorted(numbers)[-1])\n",
    "\n",
    "# numbers 리스트의 요소들을 하나하나 뽑아낸다. -> 순회\n",
    "# 하나씩 꺼내면서 지금까지 중에 제일 큰 숫자를 기록한다. (max_value)\n",
    "# 모든 요소를 다 순회할때까지 하고 난 뒤 남아 있는 수가 최댓값\n",
    "    # 조건 만들기\n",
    "    # 현재 순회중 (반복문의 임시변수) 인 수와 제일 크다고 기록한 수 ( 내가 따로 만들어준 변수 ) 를 비교\n",
    "    # 둘중에 더 큰 수를 제일 크다고 기록\n",
    "    \n",
    "# 최종 결괏값\n",
    "result = 0\n",
    "for num in numbers:\n",
    "#     if result > num:\n",
    "#         continue\n",
    "#     result = num\n",
    "    if num > result:\n",
    "        result = num\n",
    "print(result) "
   ]
  },
  {
   "cell_type": "code",
   "execution_count": 9,
   "metadata": {},
   "outputs": [
    {
     "name": "stdout",
     "output_type": "stream",
     "text": [
      "-1\n"
     ]
    }
   ],
   "source": [
    "numbers = [-1, -10, -100]\n",
    "\n",
    "result = numbers[0]\n",
    "for num in numbers:\n",
    "    if num > result:\n",
    "        result = num\n",
    "print(result) "
   ]
  },
  {
   "cell_type": "markdown",
   "metadata": {},
   "source": [
    "## 최솟값 구하기\n",
    "\n",
    "> 주어진 리스트의 요소 중에서 최솟값을 출력하시오.\n",
    "---\n",
    "```\n",
    "[출력 예시]\n",
    "3\n",
    "```"
   ]
  },
  {
   "cell_type": "code",
   "execution_count": null,
   "metadata": {},
   "outputs": [],
   "source": [
    "numbers = [7, 10, 22, 4, 3, 17]\n",
    "\n",
    "# 아래에 코드를 작성하시오.\n",
    "\n"
   ]
  },
  {
   "cell_type": "markdown",
   "metadata": {},
   "source": [
    "## 최댓값과 등장 횟수 구하기\n",
    "\n",
    "> 주어진 리스트의 요소 중에서 최댓값과 등장 횟수를 출력하시오.\n",
    "\n",
    "---\n",
    "\n",
    "```\n",
    "[출력 예시]\n",
    "22 3\n",
    "```"
   ]
  },
  {
   "cell_type": "code",
   "execution_count": 16,
   "metadata": {
    "ExecuteTime": {
     "end_time": "2020-07-20T07:14:08.319167Z",
     "start_time": "2020-07-20T07:14:08.316606Z"
    }
   },
   "outputs": [
    {
     "name": "stdout",
     "output_type": "stream",
     "text": [
      "33 1\n"
     ]
    }
   ],
   "source": [
    "numbers = [7, 10, 10, 22, 7, 22, 22, 33]\n",
    "\n",
    "# 아래에 코드를 작성하시오.\n",
    "result = numbers[0]\n",
    "count = 0 \n",
    "for num in numbers:\n",
    "    if num > result:\n",
    "        result = num\n",
    "        count = 1\n",
    "    elif num == result:\n",
    "        count += 1\n",
    "print(result, count)\n"
   ]
  },
  {
   "cell_type": "markdown",
   "metadata": {},
   "source": [
    "## 5의 개수 구하기\n",
    "\n",
    "> 주어진 리스트의 요소 중에서 5의 개수를 출력하시오.\n",
    "---\n",
    "```\n",
    "[출력 예시]\n",
    "3\n",
    "```"
   ]
  },
  {
   "cell_type": "code",
   "execution_count": 1,
   "metadata": {},
   "outputs": [
    {
     "name": "stdout",
     "output_type": "stream",
     "text": [
      "3\n"
     ]
    }
   ],
   "source": [
    "numbers = [7, 17, 10, 5, 4, 3, 17, 5, 2, 5]\n",
    "\n",
    "# 아래에 코드를 작성하시오.\n",
    "\n",
    "result = 0\n",
    "\n",
    "# 순회 대상\n",
    "for name in numbers:\n",
    "    # 조건 : 요소 중, 이영희를 찾기\n",
    "    if name == 5:\n",
    "        result = result + 1\n",
    "print(result)"
   ]
  },
  {
   "cell_type": "markdown",
   "metadata": {},
   "source": [
    "## 'a'가 싫어\n",
    "\n",
    "\n",
    "> 입력으로 짧은 영단어 word가 주어질 때, 해당 단어에서 'a'를 모두 제거한 결과를 출력하시오.\n",
    "\n",
    "---\n",
    "```\n",
    "[입력 예시]\n",
    "apple\n",
    "\n",
    "[출력 예시]\n",
    "pple\n",
    "```"
   ]
  },
  {
   "cell_type": "code",
   "execution_count": 19,
   "metadata": {},
   "outputs": [
    {
     "name": "stdout",
     "output_type": "stream",
     "text": [
      "apple\n",
      "pple\n",
      "pple\n"
     ]
    }
   ],
   "source": [
    "word = input()\n",
    "\n",
    "# 아래에 코드를 작성하시오.\n",
    "\n",
    "# 문자열 순회 하면서\n",
    "# 특정한 문자를 제외한 다른 모든 요소들을 사용하여서\n",
    "# 새로운 문자를 만들자.\n",
    "result = ''\n",
    "for char in word:\n",
    "    if char == 'a':\n",
    "        continue\n",
    "    result += char\n",
    "print(result)\n",
    "\n",
    "result = ''\n",
    "for char in word:\n",
    "    if char != 'a':\n",
    "        result += char\n",
    "print(result)"
   ]
  },
  {
   "cell_type": "code",
   "execution_count": 23,
   "metadata": {},
   "outputs": [
    {
     "name": "stdout",
     "output_type": "stream",
     "text": [
      "apple\n",
      "pple\n",
      "apple\n"
     ]
    }
   ],
   "source": [
    "word = input()\n",
    "\n",
    "change_word = word.replace('a', '')\n",
    "print(change_word)\n",
    "print(word)"
   ]
  },
  {
   "cell_type": "markdown",
   "metadata": {},
   "source": [
    "## 단어 뒤집기\n",
    "\n",
    "> 입력으로 짧은 영어단어 word가 주어질 때, 해당 단어를 역순으로 뒤집은 결과를 출력하시오.\n",
    "\n",
    "---\n",
    "```\n",
    "[입력 예시]\n",
    "apple\n",
    "\n",
    "[출력 예시]\n",
    "elppa\n",
    "```"
   ]
  },
  {
   "cell_type": "code",
   "execution_count": 27,
   "metadata": {},
   "outputs": [
    {
     "name": "stdout",
     "output_type": "stream",
     "text": [
      "apple\n",
      "elppa\n"
     ]
    }
   ],
   "source": [
    "word = input()\n",
    "\n",
    "# 아래에 코드를 작성하시오.\n",
    "\n",
    "print(''.join(list(reversed(word))))"
   ]
  },
  {
   "cell_type": "code",
   "execution_count": 29,
   "metadata": {},
   "outputs": [
    {
     "name": "stdout",
     "output_type": "stream",
     "text": [
      "apple\n",
      "elppa\n"
     ]
    }
   ],
   "source": [
    "word = input()\n",
    "\n",
    "result = ''\n",
    "for char in word:\n",
    "    # 'a', 'p', 'p', 'l'\n",
    "    result = char + result \n",
    "    # '' = 'a' + ''\n",
    "    # 'a' = 'p' + 'a'\n",
    "    # 'pa' = 'p' + 'pa'\n",
    "    # 'ppa' = 'l' + 'ppa'\n",
    "    # 'lppa'\n",
    "print(result)\n",
    "    \n",
    "    "
   ]
  },
  {
   "cell_type": "code",
   "execution_count": 30,
   "metadata": {},
   "outputs": [
    {
     "name": "stdout",
     "output_type": "stream",
     "text": [
      "apple\n"
     ]
    },
    {
     "data": {
      "text/plain": [
       "'elppa'"
      ]
     },
     "execution_count": 30,
     "metadata": {},
     "output_type": "execute_result"
    }
   ],
   "source": [
    "word = input()\n",
    "\n",
    "word[::-1]"
   ]
  }
 ],
 "metadata": {
  "kernelspec": {
   "display_name": "Python 3 (ipykernel)",
   "language": "python",
   "name": "python3"
  },
  "language_info": {
   "codemirror_mode": {
    "name": "ipython",
    "version": 3
   },
   "file_extension": ".py",
   "mimetype": "text/x-python",
   "name": "python",
   "nbconvert_exporter": "python",
   "pygments_lexer": "ipython3",
   "version": "3.9.13"
  },
  "toc": {
   "base_numbering": 1,
   "nav_menu": {},
   "number_sections": true,
   "sideBar": true,
   "skip_h1_title": false,
   "title_cell": "Table of Contents",
   "title_sidebar": "Contents",
   "toc_cell": false,
   "toc_position": {},
   "toc_section_display": true,
   "toc_window_display": false
  },
  "vscode": {
   "interpreter": {
    "hash": "abcd147f2b42f4e5dbb71dbd313f7d6f5a616e64a6f6f3be3a99628d5fc41efe"
   }
  }
 },
 "nbformat": 4,
 "nbformat_minor": 4
}
